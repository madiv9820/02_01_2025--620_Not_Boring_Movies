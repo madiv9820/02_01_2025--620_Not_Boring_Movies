{
 "cells": [
  {
   "cell_type": "code",
   "execution_count": 1,
   "id": "2014bac0",
   "metadata": {},
   "outputs": [],
   "source": [
    "import pandas as pd\n",
    "from pyspark.sql import SparkSession\n",
    "from pyspark.sql.dataframe import DataFrame as spark_DataFrame\n",
    "from pyspark.sql.functions import desc"
   ]
  },
  {
   "cell_type": "code",
   "execution_count": 2,
   "id": "c012996b",
   "metadata": {},
   "outputs": [
    {
     "name": "stderr",
     "output_type": "stream",
     "text": [
      "25/01/03 00:46:32 WARN Utils: Your hostname, madiv resolves to a loopback address: 127.0.1.1; using 192.168.1.11 instead (on interface wlo1)\n",
      "25/01/03 00:46:32 WARN Utils: Set SPARK_LOCAL_IP if you need to bind to another address\n",
      "Setting default log level to \"WARN\".\n",
      "To adjust logging level use sc.setLogLevel(newLevel). For SparkR, use setLogLevel(newLevel).\n",
      "25/01/03 00:46:41 WARN NativeCodeLoader: Unable to load native-hadoop library for your platform... using builtin-java classes where applicable\n"
     ]
    }
   ],
   "source": [
    "spark = SparkSession.builder.appName('LeetCode').getOrCreate()"
   ]
  },
  {
   "cell_type": "code",
   "execution_count": 3,
   "id": "c8f91482",
   "metadata": {},
   "outputs": [
    {
     "name": "stderr",
     "output_type": "stream",
     "text": [
      "                                                                                \r"
     ]
    },
    {
     "name": "stdout",
     "output_type": "stream",
     "text": [
      "+---+----------+-----------+------+\n",
      "| id|     movie|description|rating|\n",
      "+---+----------+-----------+------+\n",
      "|  1|       War|   great 3D|   8.9|\n",
      "|  2|   Science|    fiction|   8.5|\n",
      "|  3|     irish|     boring|   6.2|\n",
      "|  4|  Ice Song|    Fantacy|   8.6|\n",
      "|  5|House Card|Interesting|   9.1|\n",
      "+---+----------+-----------+------+\n",
      "\n"
     ]
    },
    {
     "data": {
      "text/html": [
       "<div>\n",
       "<style scoped>\n",
       "    .dataframe tbody tr th:only-of-type {\n",
       "        vertical-align: middle;\n",
       "    }\n",
       "\n",
       "    .dataframe tbody tr th {\n",
       "        vertical-align: top;\n",
       "    }\n",
       "\n",
       "    .dataframe thead th {\n",
       "        text-align: right;\n",
       "    }\n",
       "</style>\n",
       "<table border=\"1\" class=\"dataframe\">\n",
       "  <thead>\n",
       "    <tr style=\"text-align: right;\">\n",
       "      <th></th>\n",
       "      <th>id</th>\n",
       "      <th>movie</th>\n",
       "      <th>description</th>\n",
       "      <th>rating</th>\n",
       "    </tr>\n",
       "  </thead>\n",
       "  <tbody>\n",
       "    <tr>\n",
       "      <th>0</th>\n",
       "      <td>1</td>\n",
       "      <td>War</td>\n",
       "      <td>great 3D</td>\n",
       "      <td>8.9</td>\n",
       "    </tr>\n",
       "    <tr>\n",
       "      <th>1</th>\n",
       "      <td>2</td>\n",
       "      <td>Science</td>\n",
       "      <td>fiction</td>\n",
       "      <td>8.5</td>\n",
       "    </tr>\n",
       "    <tr>\n",
       "      <th>2</th>\n",
       "      <td>3</td>\n",
       "      <td>irish</td>\n",
       "      <td>boring</td>\n",
       "      <td>6.2</td>\n",
       "    </tr>\n",
       "    <tr>\n",
       "      <th>3</th>\n",
       "      <td>4</td>\n",
       "      <td>Ice Song</td>\n",
       "      <td>Fantacy</td>\n",
       "      <td>8.6</td>\n",
       "    </tr>\n",
       "    <tr>\n",
       "      <th>4</th>\n",
       "      <td>5</td>\n",
       "      <td>House Card</td>\n",
       "      <td>Interesting</td>\n",
       "      <td>9.1</td>\n",
       "    </tr>\n",
       "  </tbody>\n",
       "</table>\n",
       "</div>"
      ],
      "text/plain": [
       "   id       movie  description  rating\n",
       "0   1         War     great 3D     8.9\n",
       "1   2     Science      fiction     8.5\n",
       "2   3       irish       boring     6.2\n",
       "3   4    Ice Song      Fantacy     8.6\n",
       "4   5  House Card  Interesting     9.1"
      ]
     },
     "execution_count": 3,
     "metadata": {},
     "output_type": "execute_result"
    }
   ],
   "source": [
    "spark_cinema = spark.read.option('header', True).option('delimiter', ',').csv('Cinema.csv')\n",
    "pandas_cinema = pd.read_csv('Cinema.csv')\n",
    "\n",
    "spark_cinema.show(100)\n",
    "pandas_cinema.head(100)"
   ]
  },
  {
   "cell_type": "markdown",
   "id": "aa0e3fc2",
   "metadata": {},
   "source": [
    "### SQL"
   ]
  },
  {
   "cell_type": "code",
   "execution_count": 4,
   "id": "29cfbbd7",
   "metadata": {},
   "outputs": [
    {
     "name": "stderr",
     "output_type": "stream",
     "text": [
      "                                                                                \r"
     ]
    },
    {
     "name": "stdout",
     "output_type": "stream",
     "text": [
      "+---+----------+-----------+------+\n",
      "| id|     movie|description|rating|\n",
      "+---+----------+-----------+------+\n",
      "|  5|House Card|Interesting|   9.1|\n",
      "|  1|       War|   great 3D|   8.9|\n",
      "+---+----------+-----------+------+\n",
      "\n"
     ]
    }
   ],
   "source": [
    "def not_boring_movies(cinema: spark_DataFrame) -> spark_DataFrame:\n",
    "    # Create or replace a temporary SQL view named 'Cinema' from the input DataFrame\n",
    "    cinema.createOrReplaceTempView('Cinema')\n",
    "\n",
    "    # Define the SQL query to select movies that are not boring and have an odd id\n",
    "    sqlQuery = \\\n",
    "    '''\n",
    "    SELECT * FROM CINEMA\n",
    "    WHERE description != 'boring' AND id % 2 = 1  -- Filter: description is not 'boring' and id is odd\n",
    "    ORDER BY rating DESC  -- Order the results by rating in descending order\n",
    "    '''\n",
    "    \n",
    "    # Execute the SQL query on the temporary view 'Cinema' and store the result in 'not_Boring_Movies'\n",
    "    not_Boring_Movies = spark.sql(sqlQuery)  # Note: The 'sqlQuery' variable is passed directly to sql()\n",
    "\n",
    "    # Return the filtered and ordered DataFrame\n",
    "    return not_Boring_Movies\n",
    "\n",
    "output = not_boring_movies(cinema = spark_cinema)\n",
    "output.show(100)"
   ]
  },
  {
   "cell_type": "markdown",
   "id": "20016989",
   "metadata": {},
   "source": [
    "### PySpark"
   ]
  },
  {
   "cell_type": "code",
   "execution_count": 5,
   "id": "2c0915fd",
   "metadata": {},
   "outputs": [
    {
     "name": "stderr",
     "output_type": "stream",
     "text": [
      "                                                                                \r"
     ]
    },
    {
     "name": "stdout",
     "output_type": "stream",
     "text": [
      "+---+----------+-----------+------+\n",
      "| id|     movie|description|rating|\n",
      "+---+----------+-----------+------+\n",
      "|  5|House Card|Interesting|   9.1|\n",
      "|  1|       War|   great 3D|   8.9|\n",
      "+---+----------+-----------+------+\n",
      "\n"
     ]
    }
   ],
   "source": [
    "def not_boring_movies(cinema: spark_DataFrame) -> spark_DataFrame:\n",
    "    # Apply a filter to the 'cinema' DataFrame to select rows where:\n",
    "    # 1. The 'description' column is not 'boring'\n",
    "    # 2. The 'id' column is an odd number (id % 2 == 1)\n",
    "    not_Boring_Movies = cinema.filter(\n",
    "                                # Filter out 'boring' descriptions\n",
    "                                (cinema['description'] != 'boring') &  \n",
    "                                # Include only rows where 'id' is odd\n",
    "                                (cinema['id'] % 2 == 1))\\\n",
    "                            .orderBy(\n",
    "                                # Order the filtered rows by 'rating' \n",
    "                                # in descending order (i.e., higher ids first)\n",
    "                                cinema.rating.desc())  \n",
    "\n",
    "    # Return the filtered and ordered DataFrame containing non-boring movies with odd ids\n",
    "    return not_Boring_Movies\n",
    "\n",
    "output = not_boring_movies(cinema = spark_cinema)\n",
    "output.show(100)"
   ]
  },
  {
   "cell_type": "markdown",
   "id": "1879b9e4",
   "metadata": {},
   "source": [
    "### Pandas"
   ]
  },
  {
   "cell_type": "code",
   "execution_count": 6,
   "id": "9e81fb72",
   "metadata": {},
   "outputs": [
    {
     "name": "stderr",
     "output_type": "stream",
     "text": [
      "/tmp/ipykernel_15507/1200089780.py:12: SettingWithCopyWarning: \n",
      "A value is trying to be set on a copy of a slice from a DataFrame\n",
      "\n",
      "See the caveats in the documentation: https://pandas.pydata.org/pandas-docs/stable/user_guide/indexing.html#returning-a-view-versus-a-copy\n",
      "  not_Boring_Movies.sort_values(by = ['rating'], ascending = False, inplace = True)\n"
     ]
    },
    {
     "data": {
      "text/html": [
       "<div>\n",
       "<style scoped>\n",
       "    .dataframe tbody tr th:only-of-type {\n",
       "        vertical-align: middle;\n",
       "    }\n",
       "\n",
       "    .dataframe tbody tr th {\n",
       "        vertical-align: top;\n",
       "    }\n",
       "\n",
       "    .dataframe thead th {\n",
       "        text-align: right;\n",
       "    }\n",
       "</style>\n",
       "<table border=\"1\" class=\"dataframe\">\n",
       "  <thead>\n",
       "    <tr style=\"text-align: right;\">\n",
       "      <th></th>\n",
       "      <th>id</th>\n",
       "      <th>movie</th>\n",
       "      <th>description</th>\n",
       "      <th>rating</th>\n",
       "    </tr>\n",
       "  </thead>\n",
       "  <tbody>\n",
       "    <tr>\n",
       "      <th>4</th>\n",
       "      <td>5</td>\n",
       "      <td>House Card</td>\n",
       "      <td>Interesting</td>\n",
       "      <td>9.1</td>\n",
       "    </tr>\n",
       "    <tr>\n",
       "      <th>0</th>\n",
       "      <td>1</td>\n",
       "      <td>War</td>\n",
       "      <td>great 3D</td>\n",
       "      <td>8.9</td>\n",
       "    </tr>\n",
       "  </tbody>\n",
       "</table>\n",
       "</div>"
      ],
      "text/plain": [
       "   id       movie  description  rating\n",
       "4   5  House Card  Interesting     9.1\n",
       "0   1         War     great 3D     8.9"
      ]
     },
     "execution_count": 6,
     "metadata": {},
     "output_type": "execute_result"
    }
   ],
   "source": [
    "def not_boring_movies(cinema: pd.DataFrame) -> pd.DataFrame:\n",
    "    # Filter the 'cinema' DataFrame to select rows where:\n",
    "    # 1. The 'description' column is not equal to 'boring'\n",
    "    # 2. The 'id' column is an odd number (id % 2 == 1)\n",
    "    not_Boring_Movies = cinema[\n",
    "        (cinema['description'] != 'boring') &   # Condition: exclude movies with 'boring' in description\n",
    "        (cinema['id'] % 2 == 1)                 # Condition: include only rows where 'id' is odd\n",
    "    ]\n",
    "    \n",
    "    # Sort the filtered DataFrame by the 'rating' column in descending order (highest rating first)\n",
    "    # The 'inplace=True' argument modifies the DataFrame in place, so no need to assign it back.\n",
    "    not_Boring_Movies.sort_values(by = ['rating'], ascending = False, inplace = True)\n",
    "    \n",
    "    # Return the filtered and sorted DataFrame containing non-boring movies with odd ids\n",
    "    return not_Boring_Movies\n",
    "\n",
    "output = not_boring_movies(cinema = pandas_cinema)\n",
    "output.head(100)"
   ]
  }
 ],
 "metadata": {
  "kernelspec": {
   "display_name": "Python 3 (ipykernel)",
   "language": "python",
   "name": "python3"
  },
  "language_info": {
   "codemirror_mode": {
    "name": "ipython",
    "version": 3
   },
   "file_extension": ".py",
   "mimetype": "text/x-python",
   "name": "python",
   "nbconvert_exporter": "python",
   "pygments_lexer": "ipython3",
   "version": "3.11.5"
  }
 },
 "nbformat": 4,
 "nbformat_minor": 5
}
